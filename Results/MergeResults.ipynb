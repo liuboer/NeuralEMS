{
 "cells": [
  {
   "cell_type": "code",
   "execution_count": 3,
   "id": "57df5870-f9a2-461b-928c-e357d3137aa8",
   "metadata": {},
   "outputs": [],
   "source": [
    "import pandas as pd\n",
    "import numpy as np\n",
    "\n",
    "excel_names = [['_CS@60_ECMS', '1_CS@60', ], ['_CS@90_ECMS', '1_CS@90', ], ['_CD@70-50_ECMS', '1_CD@70-50', ],  \n",
    "               ['_CS@60_ECMS_PI', '_CS@60_PI', ], ['_CS@90_ECMS_PI', '_CS@90_PI', ], ['_CD@70-50_ECMS_PI', '_CD@70-50_PI', ],]\n",
    "\n",
    "nx, ny = np.shape(excel_names)\n",
    "\n",
    "Results_all = []\n",
    "for i in range(nx):\n",
    "    res_sheets = []\n",
    "    for j in range(ny):\n",
    "        df=pd.read_excel('Results_all'+excel_names[i][j]+'.xlsx',sheet_name=None,index_col=0)\n",
    "        for k in df.keys():\n",
    "            res_sheets.append(df[k])\n",
    "    Results_all.append(pd.concat(res_sheets,axis=1))\n",
    "            \n",
    "pd.concat(Results_all).to_excel('Results_all.xlsx',index=None,header=None)"
   ]
  }
 ],
 "metadata": {
  "kernelspec": {
   "display_name": "liubo_pytorch",
   "language": "python",
   "name": "liubo_pytorch"
  },
  "language_info": {
   "codemirror_mode": {
    "name": "ipython",
    "version": 3
   },
   "file_extension": ".py",
   "mimetype": "text/x-python",
   "name": "python",
   "nbconvert_exporter": "python",
   "pygments_lexer": "ipython3",
   "version": "3.7.15"
  }
 },
 "nbformat": 4,
 "nbformat_minor": 5
}
